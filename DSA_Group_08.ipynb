{
  "nbformat": 4,
  "nbformat_minor": 0,
  "metadata": {
    "colab": {
      "provenance": [],
      "include_colab_link": true
    },
    "kernelspec": {
      "name": "python3",
      "display_name": "Python 3"
    },
    "language_info": {
      "name": "python"
    }
  },
  "cells": [
    {
      "cell_type": "markdown",
      "metadata": {
        "id": "view-in-github",
        "colab_type": "text"
      },
      "source": [
        "<a href=\"https://colab.research.google.com/github/Himasha2003/test-youtube-kd/blob/main/DSA_Group_08.ipynb\" target=\"_parent\"><img src=\"https://colab.research.google.com/assets/colab-badge.svg\" alt=\"Open In Colab\"/></a>"
      ]
    },
    {
      "cell_type": "code",
      "execution_count": null,
      "metadata": {
        "colab": {
          "base_uri": "https://localhost:8080/"
        },
        "id": "OziF6csyLbRn",
        "outputId": "78ce5a88-c3c9-46e6-fe3a-aed7030964a0"
      },
      "outputs": [
        {
          "output_type": "stream",
          "name": "stdout",
          "text": [
            "Mini Commit History CLI (Tree-based)\n",
            "Commands: commit <msg>, branch <name>, checkout <name>, log, exit\n",
            "> commit initial commit\n",
            "Commit 1 created on branch main: initial commit\n",
            "> branch test\n",
            "New branch created: test at Commit 1\n",
            "> checkout test\n",
            "Switched to branch test\n",
            "> commit added new feature\n",
            "Commit 2 created on branch test: added new feature\n",
            "> log\n",
            "Commit 2: added new feature\n",
            "Commit 1: initial commit\n",
            "> exit\n",
            "Exiting.\n"
          ]
        }
      ],
      "source": [
        "# tree based commit history\n",
        "\n",
        "class Commit:\n",
        "    def __init__(self, commit_id, message, parent=None):\n",
        "        self.id = commit_id\n",
        "        self.message = message\n",
        "        self.parent = parent\n",
        "        self.children = []\n",
        "\n",
        "    def __repr__(self):\n",
        "        return f\"Commit {self.id}: {self.message}\"\n",
        "\n",
        "\n",
        "class Repository:\n",
        "    def __init__(self):\n",
        "        self.commits = {}\n",
        "        self.branches = {\"main\": None}\n",
        "        self.current_branch = \"main\"\n",
        "        self.head = None\n",
        "        self.next_id = 1\n",
        "\n",
        "    def commit(self, message):\n",
        "        new_commit = Commit(self.next_id, message, self.head)\n",
        "        self.commits[self.next_id] = new_commit\n",
        "\n",
        "        if self.head:\n",
        "            self.head.children.append(new_commit)\n",
        "        self.head = new_commit\n",
        "        self.branches[self.current_branch] = new_commit\n",
        "        print(f\"Commit {new_commit.id} created on branch {self.current_branch}: {message}\")\n",
        "        self.next_id += 1\n",
        "\n",
        "    def branch(self, name):\n",
        "        if name in self.branches:\n",
        "            print(f\"Branch {name} already exists.\")\n",
        "        else:\n",
        "            self.branches[name] = self.head\n",
        "            print(f\"New branch created: {name} at Commit {self.head.id if self.head else 'None'}\")\n",
        "\n",
        "    def checkout(self, name):\n",
        "        if name not in self.branches:\n",
        "            print(f\"Branch {name} does not exist.\")\n",
        "            return\n",
        "        self.current_branch = name\n",
        "        self.head = self.branches[name]\n",
        "        print(f\"Switched to branch {name}\")\n",
        "\n",
        "    def log(self):\n",
        "        current = self.head\n",
        "        if not current:\n",
        "            print(\"No commits yet.\")\n",
        "            return\n",
        "        while current:\n",
        "            print(f\"{current}\")\n",
        "            current = current.parent\n",
        "\n",
        "\n",
        "def main():\n",
        "    repo = Repository()\n",
        "    print(\"Mini Commit History CLI (Tree-based)\")\n",
        "    print(\"Commands: commit <msg>, branch <name>, checkout <name>, log, exit\")\n",
        "\n",
        "    while True:\n",
        "        try:\n",
        "            command = input(\"> \").strip().split(\" \", 1)\n",
        "            cmd = command[0]\n",
        "\n",
        "            if cmd == \"commit\":\n",
        "                if len(command) < 2:\n",
        "                    print(\"Usage: commit <message>\")\n",
        "                else:\n",
        "                    repo.commit(command[1])\n",
        "\n",
        "            elif cmd == \"branch\":\n",
        "                if len(command) < 2:\n",
        "                    print(\"Usage: branch <name>\")\n",
        "                else:\n",
        "                    repo.branch(command[1])\n",
        "\n",
        "            elif cmd == \"checkout\":\n",
        "                if len(command) < 2:\n",
        "                    print(\"Usage: checkout <branch>\")\n",
        "                else:\n",
        "                    repo.checkout(command[1])\n",
        "\n",
        "            elif cmd == \"log\":\n",
        "                repo.log()\n",
        "\n",
        "            elif cmd == \"exit\":\n",
        "                print(\"Exiting.\")\n",
        "                break\n",
        "\n",
        "            else:\n",
        "                print(\"Unknown command.\")\n",
        "\n",
        "        except KeyboardInterrupt:\n",
        "            print(\"\\nExiting.\")\n",
        "            break\n",
        "\n",
        "\n",
        "if __name__ == \"__main__\":\n",
        "    main()\n"
      ]
    }
  ]
}